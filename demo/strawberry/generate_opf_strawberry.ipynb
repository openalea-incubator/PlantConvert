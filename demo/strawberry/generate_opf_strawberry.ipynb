{
 "cells": [
  {
   "cell_type": "code",
   "execution_count": 1,
   "metadata": {},
   "outputs": [],
   "source": [
    "import openalea.plantconvert as pc\n",
    "import openalea.plantgl.all as pgl\n",
    "import openalea.strawberry as strawberry\n",
    "from openalea.mtg.algo import orders\n",
    "from openalea.strawberry import import_mtgfile, visu3d"
   ]
  },
  {
   "cell_type": "code",
   "execution_count": 2,
   "metadata": {},
   "outputs": [],
   "source": [
    "DATA = \"/\".join(strawberry.__file__.split(\"/\")[:-3]) + \"/share/data\"\n",
    "CAPRISS = DATA + \"/Capriss.mtg\""
   ]
  },
  {
   "cell_type": "code",
   "execution_count": 3,
   "metadata": {},
   "outputs": [
    {
     "name": "stdout",
     "output_type": "stream",
     "text": [
      "MTG : nb_vertices=6519, nb_scales=4\n"
     ]
    }
   ],
   "source": [
    "gariguette = import_mtgfile.import_mtgfile(filename=[\"Gariguette\"])\n",
    "gariguette.properties()[\"order\"] = orders(gariguette)\n",
    "gariguette.roots(scale=1)\n",
    "print(gariguette)"
   ]
  },
  {
   "cell_type": "code",
   "execution_count": 4,
   "metadata": {},
   "outputs": [],
   "source": [
    "%gui qt\n",
    "scene = visu3d.plot3d(gariguette, by=[\"Sample_date\"], hide_leaves=False, display=False)\n",
    "#pgl.Viewer.display(scene)"
   ]
  },
  {
   "cell_type": "code",
   "execution_count": 5,
   "metadata": {},
   "outputs": [],
   "source": [
    "def deep_primitive(sh):\n",
    "    if isinstance(sh, pgl.Shape):\n",
    "        return deep_primitive(sh.geometry)\n",
    "    elif isinstance(sh, pgl.Transformed):\n",
    "        return deep_primitive(sh.geometry)\n",
    "    else:\n",
    "        return sh\n",
    "    \n",
    "def merge_shapes(shapes):\n",
    "    if len(shapes) > 1:\n",
    "        color = shapes[0].appearance\n",
    "        geo = pgl.tesselate(pgl.Group(*[sh.geometry for sh in shapes]))\n",
    "        if not isinstance(geo, pgl.TriangleSet):\n",
    "            print(geo)\n",
    "        return pgl.Shape(geo, color)\n",
    "    else:\n",
    "        # if there is only one shape in the list, we don't need to merge\n",
    "        return shapes[0]\n",
    "\n",
    "def remove_bezier(scene_dict):\n",
    "    keys = list(scene_dict.keys())\n",
    "    shapes = list(scene_dict.values())\n",
    "    poped_nb = 0\n",
    "    for i, sh in enumerate(scene_dict.values()):\n",
    "        if isinstance(deep_primitive(sh), pgl.BezierCurve2D):\n",
    "            keys.pop(i - poped_nb)\n",
    "            shapes.pop(i - poped_nb)\n",
    "            poped_nb += 1\n",
    "    return dict(zip(keys, shapes))"
   ]
  },
  {
   "cell_type": "code",
   "execution_count": 6,
   "metadata": {},
   "outputs": [],
   "source": [
    "scene_dict = scene.todict()\n",
    "keys = iter(scene_dict.keys())\n",
    "merged = (merge_shapes(shapes) for shapes in scene_dict.values())\n",
    "scene_dict_merged = dict(zip(keys, merged))\n",
    "scene_dict_merged = remove_bezier(scene_dict_merged)\n",
    "pc.opf.writer.apply_scene(gariguette, scene_dict_merged)\n",
    "plant_gariguette = pc.plantconvert.Plant(ignored_attrs=[\"index\", \"order\", \"color\"])\n",
    "plant_gariguette.mtg = gariguette"
   ]
  },
  {
   "cell_type": "code",
   "execution_count": 7,
   "metadata": {},
   "outputs": [
    {
     "ename": "NameError",
     "evalue": "name '_get_attribute_types' is not defined",
     "output_type": "error",
     "traceback": [
      "\u001b[0;31m---------------------------------------------------------------------------\u001b[0m",
      "\u001b[0;31mNameError\u001b[0m                                 Traceback (most recent call last)",
      "Cell \u001b[0;32mIn[7], line 1\u001b[0m\n\u001b[0;32m----> 1\u001b[0m plant_gariguette\u001b[39m.\u001b[39;49mwrite(\u001b[39m\"\u001b[39;49m\u001b[39mgariguette.opf\u001b[39;49m\u001b[39m\"\u001b[39;49m)\n",
      "File \u001b[0;32m~/Documents/Modeles/Codes/OpenAlea/plantconvert/src/openalea/plantconvert/plantconvert.py:90\u001b[0m, in \u001b[0;36mPlant.write\u001b[0;34m(self, filename)\u001b[0m\n\u001b[1;32m     83\u001b[0m \u001b[39m\u001b[39m\u001b[39m\"\"\"Write the Plant object.\u001b[39;00m\n\u001b[1;32m     84\u001b[0m \n\u001b[1;32m     85\u001b[0m \u001b[39mArgs:\u001b[39;00m\n\u001b[1;32m     86\u001b[0m \u001b[39m----\u001b[39;00m\n\u001b[1;32m     87\u001b[0m \u001b[39m    filename (string): output file. Extension will determine which format will be used\u001b[39;00m\n\u001b[1;32m     88\u001b[0m \u001b[39m\"\"\"\u001b[39;00m\n\u001b[1;32m     89\u001b[0m properties_names \u001b[39m=\u001b[39m \u001b[39mlist\u001b[39m(\u001b[39mset\u001b[39m(\u001b[39mself\u001b[39m\u001b[39m.\u001b[39mmtg\u001b[39m.\u001b[39mproperty_names()) \u001b[39m-\u001b[39m \u001b[39mset\u001b[39m(\u001b[39mself\u001b[39m\u001b[39m.\u001b[39mignored_attrs))\n\u001b[0;32m---> 90\u001b[0m types \u001b[39m=\u001b[39m _get_attribute_types(\u001b[39mself\u001b[39m\u001b[39m.\u001b[39mmtg, filename, properties_names)\n\u001b[1;32m     91\u001b[0m \u001b[39mif\u001b[39;00m filename\u001b[39m.\u001b[39mendswith(\u001b[39m\"\u001b[39m\u001b[39mmtg\u001b[39m\u001b[39m\"\u001b[39m):\n\u001b[1;32m     92\u001b[0m     properties \u001b[39m=\u001b[39m \u001b[39mlist\u001b[39m(\u001b[39mzip\u001b[39m(properties_names, types))\n",
      "\u001b[0;31mNameError\u001b[0m: name '_get_attribute_types' is not defined"
     ]
    }
   ],
   "source": [
    "plant_gariguette.write(\"gariguette.opf\")"
   ]
  },
  {
   "cell_type": "code",
   "execution_count": 9,
   "metadata": {},
   "outputs": [
    {
     "ename": "StopIteration",
     "evalue": "",
     "output_type": "error",
     "traceback": [
      "\u001b[0;31m---------------------------------------------------------------------------\u001b[0m",
      "\u001b[0;31mStopIteration\u001b[0m                             Traceback (most recent call last)",
      "Cell \u001b[0;32mIn[9], line 1\u001b[0m\n\u001b[0;32m----> 1\u001b[0m plant_gariguette\u001b[39m.\u001b[39;49mwrite(\u001b[39m\"\u001b[39;49m\u001b[39mgariguette.vtp\u001b[39;49m\u001b[39m\"\u001b[39;49m)\n",
      "File \u001b[0;32m~/Documents/Modeles/Codes/OpenAlea/plantconvert/src/openalea/plantconvert/plantconvert.py:113\u001b[0m, in \u001b[0;36mPlant.write\u001b[0;34m(self, filename)\u001b[0m\n\u001b[1;32m    110\u001b[0m     \u001b[39mself\u001b[39m\u001b[39m.\u001b[39mgltf_builder\u001b[39m.\u001b[39mgltf\u001b[39m.\u001b[39msave(filename)\n\u001b[1;32m    112\u001b[0m \u001b[39melif\u001b[39;00m filename\u001b[39m.\u001b[39mendswith(\u001b[39m\"\u001b[39m\u001b[39mvtp\u001b[39m\u001b[39m\"\u001b[39m):\n\u001b[0;32m--> 113\u001b[0m     types \u001b[39m=\u001b[39m _get_attribute_types_vtk(\u001b[39mself\u001b[39;49m\u001b[39m.\u001b[39;49mmtg, properties_names)\n\u001b[1;32m    114\u001b[0m     properties \u001b[39m=\u001b[39m \u001b[39mdict\u001b[39m(\u001b[39mzip\u001b[39m(properties_names, types))\n\u001b[1;32m    115\u001b[0m     \u001b[39mself\u001b[39m\u001b[39m.\u001b[39mpolydata, label_dict \u001b[39m=\u001b[39m vtk\u001b[39m.\u001b[39mwriter\u001b[39m.\u001b[39mpolydata(\n\u001b[1;32m    116\u001b[0m         \u001b[39mself\u001b[39m\u001b[39m.\u001b[39mmtg, scalar_features\u001b[39m=\u001b[39mproperties\n\u001b[1;32m    117\u001b[0m     )\n",
      "File \u001b[0;32m~/Documents/Modeles/Codes/OpenAlea/plantconvert/src/openalea/plantconvert/plantconvert.py:165\u001b[0m, in \u001b[0;36m_get_attribute_types_vtk\u001b[0;34m(g, properties_names)\u001b[0m\n\u001b[1;32m    163\u001b[0m types \u001b[39m=\u001b[39m []\n\u001b[1;32m    164\u001b[0m \u001b[39mfor\u001b[39;00m names \u001b[39min\u001b[39;00m properties_names:\n\u001b[0;32m--> 165\u001b[0m     val \u001b[39m=\u001b[39m \u001b[39mnext\u001b[39;49m(\u001b[39miter\u001b[39;49m(g\u001b[39m.\u001b[39;49mproperty(names)\u001b[39m.\u001b[39;49mvalues()))\n\u001b[1;32m    166\u001b[0m     \u001b[39mif\u001b[39;00m \u001b[39misinstance\u001b[39m(val, \u001b[39mstr\u001b[39m):\n\u001b[1;32m    167\u001b[0m         types\u001b[39m.\u001b[39mappend(\u001b[39mtype\u001b[39m(\u001b[39mstr\u001b[39m))\n",
      "\u001b[0;31mStopIteration\u001b[0m: "
     ]
    }
   ],
   "source": [
    "plant_gariguette.write(\"gariguette.vtp\")"
   ]
  },
  {
   "cell_type": "code",
   "execution_count": 14,
   "metadata": {},
   "outputs": [
    {
     "name": "stdout",
     "output_type": "stream",
     "text": [
      "<dict_valueiterator object at 0x17bd3f8b0>\n",
      "<dict_valueiterator object at 0x17bd19db0>\n",
      "<dict_valueiterator object at 0x17bd3f8b0>\n",
      "<dict_valueiterator object at 0x17bd19db0>\n",
      "<dict_valueiterator object at 0x17bd3f8b0>\n",
      "<dict_valueiterator object at 0x17bd19db0>\n",
      "<dict_valueiterator object at 0x17bd3f8b0>\n",
      "<dict_valueiterator object at 0x17bd19db0>\n",
      "<dict_valueiterator object at 0x17bd3f8b0>\n",
      "<dict_valueiterator object at 0x17bd19db0>\n",
      "<dict_valueiterator object at 0x17bd3f8b0>\n",
      "<dict_valueiterator object at 0x17bd19db0>\n",
      "<dict_valueiterator object at 0x17bd3f8b0>\n",
      "<dict_valueiterator object at 0x17bd19db0>\n",
      "<dict_valueiterator object at 0x17bd3f8b0>\n",
      "<dict_valueiterator object at 0x17bd19db0>\n",
      "<dict_valueiterator object at 0x17bd3f8b0>\n",
      "<dict_valueiterator object at 0x17bd19db0>\n",
      "<dict_valueiterator object at 0x17bd3f8b0>\n",
      "<dict_valueiterator object at 0x17bd19db0>\n",
      "<dict_valueiterator object at 0x17bd3f8b0>\n",
      "<dict_valueiterator object at 0x17bd19db0>\n",
      "<dict_valueiterator object at 0x17bd3f8b0>\n",
      "<dict_valueiterator object at 0x17bd19db0>\n",
      "<dict_valueiterator object at 0x17bd3f8b0>\n",
      "<dict_valueiterator object at 0x17bd19db0>\n",
      "<dict_valueiterator object at 0x17bd3f8b0>\n",
      "<dict_valueiterator object at 0x17bd19db0>\n",
      "<dict_valueiterator object at 0x17bd3f8b0>\n",
      "<dict_valueiterator object at 0x17bd19db0>\n",
      "<dict_valueiterator object at 0x17bd3f8b0>\n",
      "<dict_valueiterator object at 0x17bd19db0>\n",
      "<dict_valueiterator object at 0x17bd3f8b0>\n",
      "<dict_valueiterator object at 0x17bd19db0>\n",
      "<dict_valueiterator object at 0x17bd3f8b0>\n",
      "<dict_valueiterator object at 0x17bd19db0>\n",
      "<dict_valueiterator object at 0x17bd3f8b0>\n",
      "<dict_valueiterator object at 0x17bd19db0>\n",
      "<dict_valueiterator object at 0x17bd3f8b0>\n",
      "<dict_valueiterator object at 0x17bd19db0>\n"
     ]
    }
   ],
   "source": [
    "types = []\n",
    "for names in plant_gariguette.mtg.property_names():\n",
    "    val = iter(plant_gariguette.mtg.property(names).values())\n",
    "    print(val)"
   ]
  },
  {
   "cell_type": "code",
   "execution_count": 25,
   "metadata": {},
   "outputs": [
    {
     "data": {
      "text/plain": [
       "True"
      ]
     },
     "execution_count": 25,
     "metadata": {},
     "output_type": "execute_result"
    }
   ],
   "source": [
    "isinstance(list(plant_gariguette.mtg.property(plant_gariguette.mtg.property_names()[0]).values())[0], str)"
   ]
  },
  {
   "cell_type": "code",
   "execution_count": 17,
   "metadata": {},
   "outputs": [
    {
     "data": {
      "text/plain": [
       "'edge_type'"
      ]
     },
     "execution_count": 17,
     "metadata": {},
     "output_type": "execute_result"
    }
   ],
   "source": [
    "plant_gariguette.mtg.property_names()[0]"
   ]
  },
  {
   "cell_type": "code",
   "execution_count": 18,
   "metadata": {},
   "outputs": [
    {
     "ename": "AttributeError",
     "evalue": "'str' object has no attribute 'values'",
     "output_type": "error",
     "traceback": [
      "\u001b[0;31m---------------------------------------------------------------------------\u001b[0m",
      "\u001b[0;31mAttributeError\u001b[0m                            Traceback (most recent call last)",
      "Cell \u001b[0;32mIn[18], line 1\u001b[0m\n\u001b[0;32m----> 1\u001b[0m plant_gariguette\u001b[39m.\u001b[39;49mmtg\u001b[39m.\u001b[39;49mproperty_names()[\u001b[39m0\u001b[39;49m]\u001b[39m.\u001b[39;49mvalues()\n",
      "\u001b[0;31mAttributeError\u001b[0m: 'str' object has no attribute 'values'"
     ]
    }
   ],
   "source": [
    "plant_gariguette.mtg.property_names()[0].values()"
   ]
  },
  {
   "cell_type": "code",
   "execution_count": 20,
   "metadata": {},
   "outputs": [
    {
     "ename": "TypeError",
     "evalue": "property() missing 1 required positional argument: 'name'",
     "output_type": "error",
     "traceback": [
      "\u001b[0;31m---------------------------------------------------------------------------\u001b[0m",
      "\u001b[0;31mTypeError\u001b[0m                                 Traceback (most recent call last)",
      "Cell \u001b[0;32mIn[20], line 1\u001b[0m\n\u001b[0;32m----> 1\u001b[0m plant_gariguette\u001b[39m.\u001b[39;49mmtg\u001b[39m.\u001b[39;49mproperty()\n",
      "\u001b[0;31mTypeError\u001b[0m: property() missing 1 required positional argument: 'name'"
     ]
    }
   ],
   "source": [
    "plant_gariguette.mtg.property()"
   ]
  },
  {
   "cell_type": "code",
   "execution_count": null,
   "metadata": {},
   "outputs": [],
   "source": []
  }
 ],
 "metadata": {
  "kernelspec": {
   "display_name": "opf",
   "language": "python",
   "name": "python3"
  },
  "language_info": {
   "codemirror_mode": {
    "name": "ipython",
    "version": 3
   },
   "file_extension": ".py",
   "mimetype": "text/x-python",
   "name": "python",
   "nbconvert_exporter": "python",
   "pygments_lexer": "ipython3",
   "version": "3.9.16"
  },
  "orig_nbformat": 4
 },
 "nbformat": 4,
 "nbformat_minor": 2
}
